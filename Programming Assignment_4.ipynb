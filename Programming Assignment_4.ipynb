{
 "cells": [
  {
   "cell_type": "code",
   "execution_count": 11,
   "id": "89d74ded",
   "metadata": {},
   "outputs": [
    {
     "name": "stdout",
     "output_type": "stream",
     "text": [
      "1\n",
      "2\n",
      "3\n",
      "4\n",
      "5\n",
      "6\n",
      "7\n",
      "8\n"
     ]
    }
   ],
   "source": [
    " for i in range(1,9):\n",
    "        print(i)\n",
    "        "
   ]
  },
  {
   "cell_type": "code",
   "execution_count": 10,
   "id": "bf72792d",
   "metadata": {},
   "outputs": [
    {
     "name": "stdout",
     "output_type": "stream",
     "text": [
      "enter the number6\n",
      "720  is a factorial of 6\n"
     ]
    }
   ],
   "source": [
    "n = int(input(\"enter the number\"))\n",
    "f = 1\n",
    "if n < 0:\n",
    "    print(\"no factorial\")\n",
    "elif n == 0:\n",
    "    print(\" 1 is a factorial\")\n",
    "else:\n",
    "    for i in range(1,n + 1):\n",
    "        f = f * i\n",
    "    print(f ,\" is a factorial of\" , n)"
   ]
  },
  {
   "cell_type": "code",
   "execution_count": 3,
   "id": "36514b44",
   "metadata": {},
   "outputs": [
    {
     "name": "stdout",
     "output_type": "stream",
     "text": [
      "enter the number8\n",
      "8  *  1  =  8\n",
      "8  *  2  =  16\n",
      "8  *  3  =  24\n",
      "8  *  4  =  32\n",
      "8  *  5  =  40\n",
      "8  *  6  =  48\n",
      "8  *  7  =  56\n",
      "8  *  8  =  64\n",
      "8  *  9  =  72\n",
      "8  *  10  =  80\n"
     ]
    }
   ],
   "source": [
    "t = int(input(\"enter the number\"))\n",
    "d = 1\n",
    "for i in range(1 , 11):\n",
    "    c = t * i\n",
    "    print( t , \" * \" , i ,  \" = \" , c)"
   ]
  },
  {
   "cell_type": "code",
   "execution_count": 4,
   "id": "d22ef2e7",
   "metadata": {},
   "outputs": [
    {
     "name": "stdout",
     "output_type": "stream",
     "text": [
      "7\n",
      "0\n",
      "1\n",
      "2\n",
      "3\n",
      "4\n",
      "5\n",
      "6\n"
     ]
    }
   ],
   "source": [
    "a = int(input())\n",
    "a = list(range (0 , a))\n",
    "for i in a:\n",
    "    \n",
    "    print(i)"
   ]
  },
  {
   "cell_type": "code",
   "execution_count": 5,
   "id": "980bc5ea",
   "metadata": {},
   "outputs": [
    {
     "name": "stdout",
     "output_type": "stream",
     "text": [
      "enter the number24\n",
      "[0, 1, 1, 2, 3, 5, 8, 13, 21, 34, 55, 89, 144, 233, 377, 610, 987, 1597, 2584, 4181, 6765, 10946, 17711, 28657]\n"
     ]
    }
   ],
   "source": [
    "a = int(input('enter the number'))\n",
    "fibonacc = [0 , 1]\n",
    "if a > 2:\n",
    "    for i in range(2 , a):\n",
    "        next = fibonacc[i - 1] + fibonacc[i - 2]\n",
    "        fibonacc.append(next)\n",
    "        \n",
    "print(fibonacc)\n",
    "    \n",
    "    \n"
   ]
  },
  {
   "cell_type": "code",
   "execution_count": 9,
   "id": "c700c8da",
   "metadata": {},
   "outputs": [
    {
     "name": "stdout",
     "output_type": "stream",
     "text": [
      "enter the number371\n",
      "371  is a armstrong number\n"
     ]
    }
   ],
   "source": [
    "num = int(input(\"enter the number\"))\n",
    "sum = 0\n",
    "temp = num\n",
    "while temp > 0:\n",
    "    digit = temp % 10\n",
    "    sum = sum + digit ** 3\n",
    "    temp = temp // 10\n",
    "if num == sum:\n",
    "    print(num, \" is a armstrong number\")\n",
    "else:\n",
    "    print(num , \"is not a armstrong number\")\n"
   ]
  },
  {
   "cell_type": "code",
   "execution_count": 7,
   "id": "1a79b138",
   "metadata": {},
   "outputs": [
    {
     "name": "stdout",
     "output_type": "stream",
     "text": [
      "enter the lower - 100\n",
      "enter the upper - 3000\n",
      "153\n",
      "370\n",
      "371\n",
      "407\n",
      "1634\n"
     ]
    }
   ],
   "source": [
    "lower = int(input('enter the lower - '))\n",
    "upper = int(input(\"enter the upper - \"))\n",
    "for i in range(lower , upper + 1):\n",
    "    order = len(str(i))\n",
    "    sum = 0\n",
    "    temp = i\n",
    "    while temp > 0:\n",
    "        d = temp % 10\n",
    "        sum = sum + d ** order\n",
    "        temp = temp // 10\n",
    "    if i ==sum:\n",
    "        print(i)"
   ]
  },
  {
   "cell_type": "code",
   "execution_count": null,
   "id": "628b555e",
   "metadata": {},
   "outputs": [],
   "source": [
    "\n"
   ]
  },
  {
   "cell_type": "code",
   "execution_count": 8,
   "id": "2a1b255a",
   "metadata": {},
   "outputs": [
    {
     "name": "stdout",
     "output_type": "stream",
     "text": [
      "enter the number77\n",
      "3003 the sum natural numbers\n"
     ]
    }
   ],
   "source": [
    "n = int(input('enter the number'))\n",
    "sum = 0\n",
    "for i in range(1 , n+1):\n",
    "    sum = sum + i\n",
    "print(sum,\"the sum natural numbers\")\n",
    "\n"
   ]
  },
  {
   "cell_type": "code",
   "execution_count": null,
   "id": "b326231e",
   "metadata": {},
   "outputs": [],
   "source": []
  }
 ],
 "metadata": {
  "kernelspec": {
   "display_name": "Python 3 (ipykernel)",
   "language": "python",
   "name": "python3"
  },
  "language_info": {
   "codemirror_mode": {
    "name": "ipython",
    "version": 3
   },
   "file_extension": ".py",
   "mimetype": "text/x-python",
   "name": "python",
   "nbconvert_exporter": "python",
   "pygments_lexer": "ipython3",
   "version": "3.9.7"
  }
 },
 "nbformat": 4,
 "nbformat_minor": 5
}
